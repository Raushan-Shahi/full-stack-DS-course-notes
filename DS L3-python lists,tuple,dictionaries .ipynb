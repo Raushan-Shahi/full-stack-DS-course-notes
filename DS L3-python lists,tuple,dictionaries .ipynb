{
 "cells": [
  {
   "cell_type": "markdown",
   "id": "84740527",
   "metadata": {},
   "source": [
    "# lists"
   ]
  },
  {
   "cell_type": "code",
   "execution_count": 3,
   "id": "a69fce19",
   "metadata": {},
   "outputs": [],
   "source": [
    "l = [1, 2,3, \"raushan\",56,89, True]"
   ]
  },
  {
   "cell_type": "code",
   "execution_count": 4,
   "id": "90eefcbc",
   "metadata": {},
   "outputs": [
    {
     "data": {
      "text/plain": [
       "7"
      ]
     },
     "execution_count": 4,
     "metadata": {},
     "output_type": "execute_result"
    }
   ],
   "source": [
    "len(l)"
   ]
  },
  {
   "cell_type": "code",
   "execution_count": 5,
   "id": "efd99e70",
   "metadata": {},
   "outputs": [
    {
     "data": {
      "text/plain": [
       "[True, 89, 56, 'raushan', 3, 2, 1]"
      ]
     },
     "execution_count": 5,
     "metadata": {},
     "output_type": "execute_result"
    }
   ],
   "source": [
    "l[::-1]"
   ]
  },
  {
   "cell_type": "code",
   "execution_count": 6,
   "id": "3ebdc2b2",
   "metadata": {},
   "outputs": [
    {
     "data": {
      "text/plain": [
       "[1, 2, 3, 'raushan', 56, 89, True]"
      ]
     },
     "execution_count": 6,
     "metadata": {},
     "output_type": "execute_result"
    }
   ],
   "source": [
    "l"
   ]
  },
  {
   "cell_type": "code",
   "execution_count": 7,
   "id": "1d45dd2f",
   "metadata": {},
   "outputs": [
    {
     "data": {
      "text/plain": [
       "[]"
      ]
     },
     "execution_count": 7,
     "metadata": {},
     "output_type": "execute_result"
    }
   ],
   "source": [
    "l[0:8:-1]"
   ]
  },
  {
   "cell_type": "code",
   "execution_count": 8,
   "id": "0d9c8d15",
   "metadata": {},
   "outputs": [
    {
     "data": {
      "text/plain": [
       "[1, 2, 3]"
      ]
     },
     "execution_count": 8,
     "metadata": {},
     "output_type": "execute_result"
    }
   ],
   "source": [
    "l[:3]"
   ]
  },
  {
   "cell_type": "code",
   "execution_count": 9,
   "id": "b5a74313",
   "metadata": {},
   "outputs": [
    {
     "data": {
      "text/plain": [
       "True"
      ]
     },
     "execution_count": 9,
     "metadata": {},
     "output_type": "execute_result"
    }
   ],
   "source": [
    "l[6]"
   ]
  },
  {
   "cell_type": "code",
   "execution_count": 10,
   "id": "8fcd5ff3",
   "metadata": {},
   "outputs": [
    {
     "ename": "TypeError",
     "evalue": "can only concatenate list (not \"str\") to list",
     "output_type": "error",
     "traceback": [
      "\u001b[1;31m---------------------------------------------------------------------------\u001b[0m",
      "\u001b[1;31mTypeError\u001b[0m                                 Traceback (most recent call last)",
      "Cell \u001b[1;32mIn[10], line 1\u001b[0m\n\u001b[1;32m----> 1\u001b[0m \u001b[43ml\u001b[49m\u001b[43m \u001b[49m\u001b[38;5;241;43m+\u001b[39;49m\u001b[43m \u001b[49m\u001b[38;5;124;43m\"\u001b[39;49m\u001b[38;5;124;43mboy\u001b[39;49m\u001b[38;5;124;43m\"\u001b[39;49m\n",
      "\u001b[1;31mTypeError\u001b[0m: can only concatenate list (not \"str\") to list"
     ]
    }
   ],
   "source": [
    "l + \"boy\"  #list concatenation with string is not possible."
   ]
  },
  {
   "cell_type": "code",
   "execution_count": 11,
   "id": "b110e020",
   "metadata": {},
   "outputs": [
    {
     "data": {
      "text/plain": [
       "[1, 2, 3, 'raushan', 56, 89, True, 'boy']"
      ]
     },
     "execution_count": 11,
     "metadata": {},
     "output_type": "execute_result"
    }
   ],
   "source": [
    "l+ [\"boy\"]"
   ]
  },
  {
   "cell_type": "code",
   "execution_count": 12,
   "id": "46ceb557",
   "metadata": {},
   "outputs": [
    {
     "data": {
      "text/plain": [
       "True"
      ]
     },
     "execution_count": 12,
     "metadata": {},
     "output_type": "execute_result"
    }
   ],
   "source": [
    "3 in l\n"
   ]
  },
  {
   "cell_type": "code",
   "execution_count": 13,
   "id": "6e1fbfbe",
   "metadata": {},
   "outputs": [
    {
     "data": {
      "text/plain": [
       "True"
      ]
     },
     "execution_count": 13,
     "metadata": {},
     "output_type": "execute_result"
    }
   ],
   "source": [
    "89 in l"
   ]
  },
  {
   "cell_type": "code",
   "execution_count": 14,
   "id": "ed72f5bd",
   "metadata": {},
   "outputs": [
    {
     "ename": "TypeError",
     "evalue": "'>' not supported between instances of 'str' and 'int'",
     "output_type": "error",
     "traceback": [
      "\u001b[1;31m---------------------------------------------------------------------------\u001b[0m",
      "\u001b[1;31mTypeError\u001b[0m                                 Traceback (most recent call last)",
      "Cell \u001b[1;32mIn[14], line 1\u001b[0m\n\u001b[1;32m----> 1\u001b[0m \u001b[38;5;28;43mmax\u001b[39;49m\u001b[43m(\u001b[49m\u001b[43ml\u001b[49m\u001b[43m)\u001b[49m\n",
      "\u001b[1;31mTypeError\u001b[0m: '>' not supported between instances of 'str' and 'int'"
     ]
    }
   ],
   "source": [
    "max(l)  #finding max and min in hetregeneous list is not possible"
   ]
  },
  {
   "cell_type": "code",
   "execution_count": 15,
   "id": "f0ef6a9b",
   "metadata": {},
   "outputs": [],
   "source": [
    " l2 = [\"raushan\", \"shubhansu\", \"rishabh\"]"
   ]
  },
  {
   "cell_type": "code",
   "execution_count": 16,
   "id": "1d1b38af",
   "metadata": {},
   "outputs": [
    {
     "data": {
      "text/plain": [
       "'shubhansu'"
      ]
     },
     "execution_count": 16,
     "metadata": {},
     "output_type": "execute_result"
    }
   ],
   "source": [
    "max(l2)"
   ]
  },
  {
   "cell_type": "code",
   "execution_count": 17,
   "id": "32fb8679",
   "metadata": {},
   "outputs": [
    {
     "data": {
      "text/plain": [
       "'raushan'"
      ]
     },
     "execution_count": 17,
     "metadata": {},
     "output_type": "execute_result"
    }
   ],
   "source": [
    "min(l2)"
   ]
  },
  {
   "cell_type": "code",
   "execution_count": 18,
   "id": "fa1f5471",
   "metadata": {},
   "outputs": [
    {
     "data": {
      "text/plain": [
       "2"
      ]
     },
     "execution_count": 18,
     "metadata": {},
     "output_type": "execute_result"
    }
   ],
   "source": [
    "l.index(3)"
   ]
  },
  {
   "cell_type": "code",
   "execution_count": 19,
   "id": "c16d4a71",
   "metadata": {},
   "outputs": [
    {
     "ename": "TypeError",
     "evalue": "list.copy() takes no arguments (1 given)",
     "output_type": "error",
     "traceback": [
      "\u001b[1;31m---------------------------------------------------------------------------\u001b[0m",
      "\u001b[1;31mTypeError\u001b[0m                                 Traceback (most recent call last)",
      "Cell \u001b[1;32mIn[19], line 1\u001b[0m\n\u001b[1;32m----> 1\u001b[0m \u001b[43ml\u001b[49m\u001b[38;5;241;43m.\u001b[39;49m\u001b[43mcopy\u001b[49m\u001b[43m(\u001b[49m\u001b[43ml2\u001b[49m\u001b[43m)\u001b[49m\n",
      "\u001b[1;31mTypeError\u001b[0m: list.copy() takes no arguments (1 given)"
     ]
    }
   ],
   "source": [
    "l.copy(l2)"
   ]
  },
  {
   "cell_type": "code",
   "execution_count": 20,
   "id": "2dd4d5eb",
   "metadata": {},
   "outputs": [],
   "source": [
    "l3 = l.copy()"
   ]
  },
  {
   "cell_type": "code",
   "execution_count": 21,
   "id": "b0bd4472",
   "metadata": {},
   "outputs": [
    {
     "data": {
      "text/plain": [
       "[1, 2, 3, 'raushan', 56, 89, True]"
      ]
     },
     "execution_count": 21,
     "metadata": {},
     "output_type": "execute_result"
    }
   ],
   "source": [
    "l3"
   ]
  },
  {
   "cell_type": "code",
   "execution_count": 22,
   "id": "fd8c245e",
   "metadata": {},
   "outputs": [],
   "source": [
    "l.append(67)"
   ]
  },
  {
   "cell_type": "code",
   "execution_count": 23,
   "id": "a86c4656",
   "metadata": {},
   "outputs": [
    {
     "data": {
      "text/plain": [
       "[1, 2, 3, 'raushan', 56, 89, True, 67]"
      ]
     },
     "execution_count": 23,
     "metadata": {},
     "output_type": "execute_result"
    }
   ],
   "source": [
    "l"
   ]
  },
  {
   "cell_type": "code",
   "execution_count": 24,
   "id": "9fb2cb47",
   "metadata": {},
   "outputs": [
    {
     "data": {
      "text/plain": [
       "1"
      ]
     },
     "execution_count": 24,
     "metadata": {},
     "output_type": "execute_result"
    }
   ],
   "source": [
    "l.count(2)"
   ]
  },
  {
   "cell_type": "code",
   "execution_count": 25,
   "id": "269c5514",
   "metadata": {},
   "outputs": [
    {
     "data": {
      "text/plain": [
       "67"
      ]
     },
     "execution_count": 25,
     "metadata": {},
     "output_type": "execute_result"
    }
   ],
   "source": [
    "l.pop()"
   ]
  },
  {
   "cell_type": "code",
   "execution_count": 26,
   "id": "c71fd4c4",
   "metadata": {},
   "outputs": [
    {
     "data": {
      "text/plain": [
       "[1, 2, 3, 'raushan', 56, 89, True]"
      ]
     },
     "execution_count": 26,
     "metadata": {},
     "output_type": "execute_result"
    }
   ],
   "source": [
    "l"
   ]
  },
  {
   "cell_type": "code",
   "execution_count": 27,
   "id": "59f54f23",
   "metadata": {},
   "outputs": [
    {
     "data": {
      "text/plain": [
       "3"
      ]
     },
     "execution_count": 27,
     "metadata": {},
     "output_type": "execute_result"
    }
   ],
   "source": [
    "l.pop(2)"
   ]
  },
  {
   "cell_type": "code",
   "execution_count": 28,
   "id": "be8220c4",
   "metadata": {},
   "outputs": [],
   "source": [
    "l.extend(\"raushan\")"
   ]
  },
  {
   "cell_type": "code",
   "execution_count": 29,
   "id": "40eb47e9",
   "metadata": {},
   "outputs": [
    {
     "data": {
      "text/plain": [
       "'n'"
      ]
     },
     "execution_count": 29,
     "metadata": {},
     "output_type": "execute_result"
    }
   ],
   "source": [
    "l.pop()"
   ]
  },
  {
   "cell_type": "code",
   "execution_count": 30,
   "id": "77a842e1",
   "metadata": {},
   "outputs": [
    {
     "data": {
      "text/plain": [
       "'a'"
      ]
     },
     "execution_count": 30,
     "metadata": {},
     "output_type": "execute_result"
    }
   ],
   "source": [
    "l.pop()"
   ]
  },
  {
   "cell_type": "code",
   "execution_count": 31,
   "id": "5b58d7da",
   "metadata": {},
   "outputs": [],
   "source": [
    "while(len(l)<7):\n",
    "    l.pop()"
   ]
  },
  {
   "cell_type": "code",
   "execution_count": 32,
   "id": "7d6763c7",
   "metadata": {},
   "outputs": [
    {
     "data": {
      "text/plain": [
       "11"
      ]
     },
     "execution_count": 32,
     "metadata": {},
     "output_type": "execute_result"
    }
   ],
   "source": [
    "len(l)"
   ]
  },
  {
   "cell_type": "code",
   "execution_count": 33,
   "id": "80d7a47f",
   "metadata": {},
   "outputs": [],
   "source": [
    "while(len(l)<7):\n",
    "    l.pop()"
   ]
  },
  {
   "cell_type": "code",
   "execution_count": 34,
   "id": "ad5eeb03",
   "metadata": {},
   "outputs": [],
   "source": [
    "l.reverse()"
   ]
  },
  {
   "cell_type": "code",
   "execution_count": 35,
   "id": "42c64e1b",
   "metadata": {},
   "outputs": [
    {
     "data": {
      "text/plain": [
       "['h', 's', 'u', 'a', 'r', True, 89, 56, 'raushan', 2, 1]"
      ]
     },
     "execution_count": 35,
     "metadata": {},
     "output_type": "execute_result"
    }
   ],
   "source": [
    "l"
   ]
  },
  {
   "cell_type": "code",
   "execution_count": 36,
   "id": "9ab9256d",
   "metadata": {},
   "outputs": [],
   "source": [
    "l3 = [7,89,67,80,467,5,8,1]"
   ]
  },
  {
   "cell_type": "code",
   "execution_count": 37,
   "id": "c68c867c",
   "metadata": {},
   "outputs": [],
   "source": [
    "l3.sort() "
   ]
  },
  {
   "cell_type": "code",
   "execution_count": 38,
   "id": "d00abff0",
   "metadata": {},
   "outputs": [
    {
     "data": {
      "text/plain": [
       "[1, 5, 7, 8, 67, 80, 89, 467]"
      ]
     },
     "execution_count": 38,
     "metadata": {},
     "output_type": "execute_result"
    }
   ],
   "source": [
    "l3"
   ]
  },
  {
   "cell_type": "code",
   "execution_count": 39,
   "id": "aefac0fc",
   "metadata": {},
   "outputs": [],
   "source": [
    "l3.sort(reverse= True)"
   ]
  },
  {
   "cell_type": "code",
   "execution_count": 40,
   "id": "61aaa94c",
   "metadata": {},
   "outputs": [
    {
     "data": {
      "text/plain": [
       "[467, 89, 80, 67, 8, 7, 5, 1]"
      ]
     },
     "execution_count": 40,
     "metadata": {},
     "output_type": "execute_result"
    }
   ],
   "source": [
    "l3"
   ]
  },
  {
   "cell_type": "code",
   "execution_count": 41,
   "id": "d574d7e3",
   "metadata": {},
   "outputs": [],
   "source": [
    "l5 = [8,8,9,7,6,5,5,7,8,9]"
   ]
  },
  {
   "cell_type": "code",
   "execution_count": 42,
   "id": "c3cfd8b6",
   "metadata": {},
   "outputs": [
    {
     "data": {
      "text/plain": [
       "3"
      ]
     },
     "execution_count": 42,
     "metadata": {},
     "output_type": "execute_result"
    }
   ],
   "source": [
    "l5.count(8)"
   ]
  },
  {
   "cell_type": "code",
   "execution_count": 43,
   "id": "466700ba",
   "metadata": {},
   "outputs": [],
   "source": [
    "l6=[[1,2,3],[4,5,6],7,8,9]"
   ]
  },
  {
   "cell_type": "code",
   "execution_count": 44,
   "id": "65efb7b8",
   "metadata": {},
   "outputs": [
    {
     "data": {
      "text/plain": [
       "1"
      ]
     },
     "execution_count": 44,
     "metadata": {},
     "output_type": "execute_result"
    }
   ],
   "source": [
    "l6[0][0]"
   ]
  },
  {
   "cell_type": "code",
   "execution_count": 45,
   "id": "baaff35f",
   "metadata": {},
   "outputs": [
    {
     "data": {
      "text/plain": [
       "9"
      ]
     },
     "execution_count": 45,
     "metadata": {},
     "output_type": "execute_result"
    }
   ],
   "source": [
    "l6[4]"
   ]
  },
  {
   "cell_type": "code",
   "execution_count": 46,
   "id": "72d18dd2",
   "metadata": {},
   "outputs": [
    {
     "data": {
      "text/plain": [
       "7"
      ]
     },
     "execution_count": 46,
     "metadata": {},
     "output_type": "execute_result"
    }
   ],
   "source": [
    "l6[2]"
   ]
  },
  {
   "cell_type": "code",
   "execution_count": 47,
   "id": "0049d91f",
   "metadata": {},
   "outputs": [
    {
     "data": {
      "text/plain": [
       "[4, 5, 6]"
      ]
     },
     "execution_count": 47,
     "metadata": {},
     "output_type": "execute_result"
    }
   ],
   "source": [
    "l6[1]"
   ]
  },
  {
   "cell_type": "code",
   "execution_count": 48,
   "id": "c1f3713f",
   "metadata": {},
   "outputs": [
    {
     "data": {
      "text/plain": [
       "6"
      ]
     },
     "execution_count": 48,
     "metadata": {},
     "output_type": "execute_result"
    }
   ],
   "source": [
    "l6[1][2]"
   ]
  },
  {
   "cell_type": "code",
   "execution_count": 49,
   "id": "811a67ec",
   "metadata": {},
   "outputs": [],
   "source": [
    "#extend will unwrap and then append it to the list, but append will append as it is \n"
   ]
  },
  {
   "cell_type": "code",
   "execution_count": 50,
   "id": "37813c53",
   "metadata": {},
   "outputs": [],
   "source": [
    "l.remove(89)"
   ]
  },
  {
   "cell_type": "code",
   "execution_count": 51,
   "id": "b8a69574",
   "metadata": {},
   "outputs": [
    {
     "data": {
      "text/plain": [
       "['h', 's', 'u', 'a', 'r', True, 56, 'raushan', 2, 1]"
      ]
     },
     "execution_count": 51,
     "metadata": {},
     "output_type": "execute_result"
    }
   ],
   "source": [
    "l"
   ]
  },
  {
   "cell_type": "code",
   "execution_count": 52,
   "id": "63b46bb8",
   "metadata": {},
   "outputs": [],
   "source": [
    "l.clear()"
   ]
  },
  {
   "cell_type": "code",
   "execution_count": 53,
   "id": "35234b70",
   "metadata": {},
   "outputs": [
    {
     "data": {
      "text/plain": [
       "[]"
      ]
     },
     "execution_count": 53,
     "metadata": {},
     "output_type": "execute_result"
    }
   ],
   "source": [
    "l"
   ]
  },
  {
   "cell_type": "code",
   "execution_count": 54,
   "id": "9a106d2b",
   "metadata": {},
   "outputs": [],
   "source": [
    "l = [1,2,3,4, \"raushan\", \"boy\", True]"
   ]
  },
  {
   "cell_type": "code",
   "execution_count": 55,
   "id": "6b4fb995",
   "metadata": {},
   "outputs": [
    {
     "data": {
      "text/plain": [
       "3"
      ]
     },
     "execution_count": 55,
     "metadata": {},
     "output_type": "execute_result"
    }
   ],
   "source": [
    "l[2]"
   ]
  },
  {
   "cell_type": "code",
   "execution_count": 56,
   "id": "fa2ee6a2",
   "metadata": {},
   "outputs": [],
   "source": [
    "s=\"raushan\""
   ]
  },
  {
   "cell_type": "code",
   "execution_count": 59,
   "id": "07c08d65",
   "metadata": {},
   "outputs": [
    {
     "ename": "TypeError",
     "evalue": "'str' object does not support item assignment",
     "output_type": "error",
     "traceback": [
      "\u001b[1;31m---------------------------------------------------------------------------\u001b[0m",
      "\u001b[1;31mTypeError\u001b[0m                                 Traceback (most recent call last)",
      "Cell \u001b[1;32mIn[59], line 1\u001b[0m\n\u001b[1;32m----> 1\u001b[0m s[\u001b[38;5;241m2\u001b[39m] \u001b[38;5;241m=\u001b[39m \u001b[38;5;124m'\u001b[39m\u001b[38;5;124mx\u001b[39m\u001b[38;5;124m'\u001b[39m\n",
      "\u001b[1;31mTypeError\u001b[0m: 'str' object does not support item assignment"
     ]
    }
   ],
   "source": [
    "s[2] = 'x'   #strings are immutable"
   ]
  },
  {
   "cell_type": "markdown",
   "id": "44ebb23b",
   "metadata": {},
   "source": [
    "# Tuple"
   ]
  },
  {
   "cell_type": "code",
   "execution_count": 60,
   "id": "1d53a0d7",
   "metadata": {},
   "outputs": [],
   "source": [
    "t = (1,2,3,4,\"raushan\", True, 100)"
   ]
  },
  {
   "cell_type": "code",
   "execution_count": 61,
   "id": "818df6d2",
   "metadata": {},
   "outputs": [
    {
     "data": {
      "text/plain": [
       "1"
      ]
     },
     "execution_count": 61,
     "metadata": {},
     "output_type": "execute_result"
    }
   ],
   "source": [
    "t[0]"
   ]
  },
  {
   "cell_type": "code",
   "execution_count": 62,
   "id": "4a582b92",
   "metadata": {},
   "outputs": [
    {
     "data": {
      "text/plain": [
       "100"
      ]
     },
     "execution_count": 62,
     "metadata": {},
     "output_type": "execute_result"
    }
   ],
   "source": [
    "t[6]"
   ]
  },
  {
   "cell_type": "code",
   "execution_count": 63,
   "id": "aac62187",
   "metadata": {},
   "outputs": [
    {
     "data": {
      "text/plain": [
       "(1, 2, 3, 4)"
      ]
     },
     "execution_count": 63,
     "metadata": {},
     "output_type": "execute_result"
    }
   ],
   "source": [
    "t[0:4]"
   ]
  },
  {
   "cell_type": "code",
   "execution_count": 65,
   "id": "92b351af",
   "metadata": {},
   "outputs": [
    {
     "data": {
      "text/plain": [
       "100"
      ]
     },
     "execution_count": 65,
     "metadata": {},
     "output_type": "execute_result"
    }
   ],
   "source": [
    "t[-1]"
   ]
  },
  {
   "cell_type": "code",
   "execution_count": 66,
   "id": "8a3e1f41",
   "metadata": {},
   "outputs": [
    {
     "data": {
      "text/plain": [
       "tuple"
      ]
     },
     "execution_count": 66,
     "metadata": {},
     "output_type": "execute_result"
    }
   ],
   "source": [
    "type(t)"
   ]
  },
  {
   "cell_type": "code",
   "execution_count": 67,
   "id": "22338122",
   "metadata": {},
   "outputs": [
    {
     "data": {
      "text/plain": [
       "str"
      ]
     },
     "execution_count": 67,
     "metadata": {},
     "output_type": "execute_result"
    }
   ],
   "source": [
    "type(s)"
   ]
  },
  {
   "cell_type": "code",
   "execution_count": 68,
   "id": "6b604e32",
   "metadata": {},
   "outputs": [],
   "source": [
    "t1 = ('t', 3, 66,'rishabh')"
   ]
  },
  {
   "cell_type": "code",
   "execution_count": 69,
   "id": "fa4b219b",
   "metadata": {},
   "outputs": [
    {
     "data": {
      "text/plain": [
       "(1, 2, 3, 4, 'raushan', True, 100, 't', 3, 66, 'rishabh')"
      ]
     },
     "execution_count": 69,
     "metadata": {},
     "output_type": "execute_result"
    }
   ],
   "source": [
    "t+t1"
   ]
  },
  {
   "cell_type": "code",
   "execution_count": 70,
   "id": "6080c19e",
   "metadata": {},
   "outputs": [
    {
     "data": {
      "text/plain": [
       "2"
      ]
     },
     "execution_count": 70,
     "metadata": {},
     "output_type": "execute_result"
    }
   ],
   "source": [
    "t.count(1)"
   ]
  },
  {
   "cell_type": "code",
   "execution_count": 71,
   "id": "4639648a",
   "metadata": {},
   "outputs": [
    {
     "data": {
      "text/plain": [
       "3"
      ]
     },
     "execution_count": 71,
     "metadata": {},
     "output_type": "execute_result"
    }
   ],
   "source": [
    "t.index(4)"
   ]
  },
  {
   "cell_type": "code",
   "execution_count": 72,
   "id": "6b9463e1",
   "metadata": {},
   "outputs": [
    {
     "data": {
      "text/plain": [
       "[1, 2, 3, 4, 'raushan', True, 100]"
      ]
     },
     "execution_count": 72,
     "metadata": {},
     "output_type": "execute_result"
    }
   ],
   "source": [
    "list(t)"
   ]
  },
  {
   "cell_type": "code",
   "execution_count": 73,
   "id": "8c204080",
   "metadata": {},
   "outputs": [
    {
     "data": {
      "text/plain": [
       "(1, 2, 3, 4, 'raushan', 'boy', True)"
      ]
     },
     "execution_count": 73,
     "metadata": {},
     "output_type": "execute_result"
    }
   ],
   "source": [
    "tuple(l)"
   ]
  },
  {
   "cell_type": "code",
   "execution_count": 74,
   "id": "a5516163",
   "metadata": {},
   "outputs": [],
   "source": [
    "#list and tuple can be converted into each other"
   ]
  },
  {
   "cell_type": "markdown",
   "id": "9068f0b7",
   "metadata": {},
   "source": [
    "# Dictionary"
   ]
  },
  {
   "cell_type": "code",
   "execution_count": 75,
   "id": "cd6a0103",
   "metadata": {},
   "outputs": [],
   "source": [
    "d={'key':'value',1:'raushan',2:'rishabh',3:'shubhansu',4:'vishakha'}"
   ]
  },
  {
   "cell_type": "code",
   "execution_count": 76,
   "id": "389c1428",
   "metadata": {},
   "outputs": [
    {
     "data": {
      "text/plain": [
       "dict"
      ]
     },
     "execution_count": 76,
     "metadata": {},
     "output_type": "execute_result"
    }
   ],
   "source": [
    "type(d)"
   ]
  },
  {
   "cell_type": "code",
   "execution_count": 77,
   "id": "ef2cf5f5",
   "metadata": {},
   "outputs": [],
   "source": [
    "d1={}"
   ]
  },
  {
   "cell_type": "code",
   "execution_count": 78,
   "id": "da241378",
   "metadata": {},
   "outputs": [
    {
     "data": {
      "text/plain": [
       "dict"
      ]
     },
     "execution_count": 78,
     "metadata": {},
     "output_type": "execute_result"
    }
   ],
   "source": [
    "type(d1)"
   ]
  },
  {
   "cell_type": "code",
   "execution_count": 79,
   "id": "ca209039",
   "metadata": {},
   "outputs": [],
   "source": [
    "d1={1}"
   ]
  },
  {
   "cell_type": "code",
   "execution_count": 80,
   "id": "6c6eb151",
   "metadata": {},
   "outputs": [
    {
     "data": {
      "text/plain": [
       "set"
      ]
     },
     "execution_count": 80,
     "metadata": {},
     "output_type": "execute_result"
    }
   ],
   "source": [
    "type(d1)"
   ]
  },
  {
   "cell_type": "code",
   "execution_count": 83,
   "id": "4833bcf5",
   "metadata": {},
   "outputs": [
    {
     "data": {
      "text/plain": [
       "'raushan'"
      ]
     },
     "execution_count": 83,
     "metadata": {},
     "output_type": "execute_result"
    }
   ],
   "source": [
    "d[1]"
   ]
  },
  {
   "cell_type": "code",
   "execution_count": 84,
   "id": "9cbb9eb0",
   "metadata": {},
   "outputs": [
    {
     "ename": "KeyError",
     "evalue": "'key'",
     "output_type": "error",
     "traceback": [
      "\u001b[1;31m---------------------------------------------------------------------------\u001b[0m",
      "\u001b[1;31mKeyError\u001b[0m                                  Traceback (most recent call last)",
      "Cell \u001b[1;32mIn[84], line 1\u001b[0m\n\u001b[1;32m----> 1\u001b[0m \u001b[43md\u001b[49m\u001b[43m[\u001b[49m\u001b[38;5;124;43m'\u001b[39;49m\u001b[38;5;124;43mkey\u001b[39;49m\u001b[38;5;124;43m'\u001b[39;49m\u001b[43m]\u001b[49m\n",
      "\u001b[1;31mKeyError\u001b[0m: 'key'"
     ]
    }
   ],
   "source": [
    "d['key']"
   ]
  },
  {
   "cell_type": "code",
   "execution_count": 85,
   "id": "533ff02f",
   "metadata": {},
   "outputs": [],
   "source": [
    "d3={'name':'raushan' , 'tech':['python','html','c++','ML']}"
   ]
  },
  {
   "cell_type": "code",
   "execution_count": 86,
   "id": "c2a6fb2f",
   "metadata": {},
   "outputs": [
    {
     "data": {
      "text/plain": [
       "dict"
      ]
     },
     "execution_count": 86,
     "metadata": {},
     "output_type": "execute_result"
    }
   ],
   "source": [
    "type(d3)"
   ]
  },
  {
   "cell_type": "code",
   "execution_count": 88,
   "id": "83d3841d",
   "metadata": {},
   "outputs": [
    {
     "data": {
      "text/plain": [
       "{'name': 'raushan', 'tech': ['python', 'html', 'c++', 'ML']}"
      ]
     },
     "execution_count": 88,
     "metadata": {},
     "output_type": "execute_result"
    }
   ],
   "source": [
    "d3"
   ]
  },
  {
   "cell_type": "code",
   "execution_count": 89,
   "id": "60001caf",
   "metadata": {},
   "outputs": [
    {
     "data": {
      "text/plain": [
       "True"
      ]
     },
     "execution_count": 89,
     "metadata": {},
     "output_type": "execute_result"
    }
   ],
   "source": [
    "'python' in d3['tech']"
   ]
  },
  {
   "cell_type": "code",
   "execution_count": 90,
   "id": "648d9b6e",
   "metadata": {},
   "outputs": [],
   "source": [
    "#key must be unique"
   ]
  },
  {
   "cell_type": "code",
   "execution_count": 91,
   "id": "42d8885b",
   "metadata": {},
   "outputs": [],
   "source": [
    "d3['hobby']= 'playing volleyball'"
   ]
  },
  {
   "cell_type": "code",
   "execution_count": 92,
   "id": "cb544a7d",
   "metadata": {},
   "outputs": [
    {
     "data": {
      "text/plain": [
       "{'name': 'raushan',\n",
       " 'tech': ['python', 'html', 'c++', 'ML'],\n",
       " 'hobby': 'playing volleyball'}"
      ]
     },
     "execution_count": 92,
     "metadata": {},
     "output_type": "execute_result"
    }
   ],
   "source": [
    "d3"
   ]
  },
  {
   "cell_type": "code",
   "execution_count": 93,
   "id": "27fbf5c9",
   "metadata": {},
   "outputs": [],
   "source": [
    "d3['dict'] = d"
   ]
  },
  {
   "cell_type": "code",
   "execution_count": 94,
   "id": "1bb494b0",
   "metadata": {},
   "outputs": [
    {
     "data": {
      "text/plain": [
       "{'name': 'raushan',\n",
       " 'tech': ['python', 'html', 'c++', 'ML'],\n",
       " 'hobby': 'playing volleyball',\n",
       " 'dict': {1: 'raushan', 2: 'rishabh', 3: 'shubhansu', 4: 'vishakha'}}"
      ]
     },
     "execution_count": 94,
     "metadata": {},
     "output_type": "execute_result"
    }
   ],
   "source": [
    "d3"
   ]
  },
  {
   "cell_type": "code",
   "execution_count": 95,
   "id": "2a9f67af",
   "metadata": {},
   "outputs": [
    {
     "data": {
      "text/plain": [
       "'rishabh'"
      ]
     },
     "execution_count": 95,
     "metadata": {},
     "output_type": "execute_result"
    }
   ],
   "source": [
    "d3['dict'][2]"
   ]
  },
  {
   "cell_type": "code",
   "execution_count": 101,
   "id": "6baac134",
   "metadata": {},
   "outputs": [],
   "source": [
    "d6 = {(1,2,3):'rau'}"
   ]
  },
  {
   "cell_type": "code",
   "execution_count": 102,
   "id": "18bfbdb4",
   "metadata": {},
   "outputs": [
    {
     "data": {
      "text/plain": [
       "'rau'"
      ]
     },
     "execution_count": 102,
     "metadata": {},
     "output_type": "execute_result"
    }
   ],
   "source": [
    "d6[(1,2,3)]"
   ]
  },
  {
   "cell_type": "code",
   "execution_count": 103,
   "id": "725f2d64",
   "metadata": {},
   "outputs": [],
   "source": [
    "#tuples are allowed as key because it is immutable, dictionaries and lists are not allowed because they are mutable"
   ]
  },
  {
   "cell_type": "code",
   "execution_count": 105,
   "id": "1ffd9bb5",
   "metadata": {},
   "outputs": [
    {
     "ename": "NameError",
     "evalue": "name 'd2' is not defined",
     "output_type": "error",
     "traceback": [
      "\u001b[1;31m---------------------------------------------------------------------------\u001b[0m",
      "\u001b[1;31mNameError\u001b[0m                                 Traceback (most recent call last)",
      "Cell \u001b[1;32mIn[105], line 1\u001b[0m\n\u001b[1;32m----> 1\u001b[0m \u001b[43md2\u001b[49m\u001b[38;5;241m+\u001b[39md3\n",
      "\u001b[1;31mNameError\u001b[0m: name 'd2' is not defined"
     ]
    }
   ],
   "source": [
    "d2+d3  #concatenation are not allowed for dictionaries"
   ]
  },
  {
   "cell_type": "code",
   "execution_count": 107,
   "id": "5338c378",
   "metadata": {},
   "outputs": [
    {
     "data": {
      "text/plain": [
       "dict_keys(['name', 'tech', 'hobby', 'dict'])"
      ]
     },
     "execution_count": 107,
     "metadata": {},
     "output_type": "execute_result"
    }
   ],
   "source": [
    "d3.keys()"
   ]
  },
  {
   "cell_type": "code",
   "execution_count": 109,
   "id": "9fd4f6a8",
   "metadata": {},
   "outputs": [
    {
     "data": {
      "text/plain": [
       "dict_items([('name', 'raushan'), ('tech', ['python', 'html', 'c++', 'ML']), ('hobby', 'playing volleyball'), ('dict', {1: 'raushan', 2: 'rishabh', 3: 'shubhansu', 4: 'vishakha'})])"
      ]
     },
     "execution_count": 109,
     "metadata": {},
     "output_type": "execute_result"
    }
   ],
   "source": [
    "d3.items()"
   ]
  },
  {
   "cell_type": "markdown",
   "id": "568a0fd5",
   "metadata": {},
   "source": [
    "# set"
   ]
  },
  {
   "cell_type": "code",
   "execution_count": 113,
   "id": "dc5998bc",
   "metadata": {},
   "outputs": [],
   "source": [
    "s={1,2,3,4,4,6,7,7,7,7,0,0,8}"
   ]
  },
  {
   "cell_type": "code",
   "execution_count": 114,
   "id": "02485f17",
   "metadata": {},
   "outputs": [
    {
     "data": {
      "text/plain": [
       "set"
      ]
     },
     "execution_count": 114,
     "metadata": {},
     "output_type": "execute_result"
    }
   ],
   "source": [
    "type(s)"
   ]
  },
  {
   "cell_type": "code",
   "execution_count": 115,
   "id": "ee260bcc",
   "metadata": {},
   "outputs": [
    {
     "data": {
      "text/plain": [
       "{0, 1, 2, 3, 4, 6, 7, 8}"
      ]
     },
     "execution_count": 115,
     "metadata": {},
     "output_type": "execute_result"
    }
   ],
   "source": [
    "s"
   ]
  },
  {
   "cell_type": "code",
   "execution_count": 117,
   "id": "535df664",
   "metadata": {},
   "outputs": [],
   "source": [
    "s2={56,4,890,67,1}"
   ]
  },
  {
   "cell_type": "code",
   "execution_count": 118,
   "id": "d8af6db6",
   "metadata": {},
   "outputs": [
    {
     "data": {
      "text/plain": [
       "{1, 4, 56, 67, 890}"
      ]
     },
     "execution_count": 118,
     "metadata": {},
     "output_type": "execute_result"
    }
   ],
   "source": [
    "s2 "
   ]
  },
  {
   "cell_type": "code",
   "execution_count": 121,
   "id": "56712edd",
   "metadata": {},
   "outputs": [],
   "source": [
    "s3 = {'rau', 34,2, 89.34, 'b', 456, 22, '6'}"
   ]
  },
  {
   "cell_type": "code",
   "execution_count": 122,
   "id": "9335224f",
   "metadata": {},
   "outputs": [
    {
     "data": {
      "text/plain": [
       "{2, 22, 34, 456, '6', 89.34, 'b', 'rau'}"
      ]
     },
     "execution_count": 122,
     "metadata": {},
     "output_type": "execute_result"
    }
   ],
   "source": [
    "s3"
   ]
  },
  {
   "cell_type": "code",
   "execution_count": 123,
   "id": "cac0f5b9",
   "metadata": {},
   "outputs": [
    {
     "data": {
      "text/plain": [
       "[0, 1, 2, 3, 4, 6, 7, 8]"
      ]
     },
     "execution_count": 123,
     "metadata": {},
     "output_type": "execute_result"
    }
   ],
   "source": [
    "list(s)"
   ]
  },
  {
   "cell_type": "code",
   "execution_count": 124,
   "id": "4227d079",
   "metadata": {},
   "outputs": [],
   "source": [
    "l=[7,8,8,888,5,4,3,2,8,9,9,9,9,99,9,99,9,9,9]"
   ]
  },
  {
   "cell_type": "code",
   "execution_count": 127,
   "id": "a859736a",
   "metadata": {},
   "outputs": [],
   "source": [
    "s5=set(l)"
   ]
  },
  {
   "cell_type": "code",
   "execution_count": 128,
   "id": "76f21316",
   "metadata": {},
   "outputs": [
    {
     "data": {
      "text/plain": [
       "[2, 3, 4, 5, 99, 7, 8, 9, 888]"
      ]
     },
     "execution_count": 128,
     "metadata": {},
     "output_type": "execute_result"
    }
   ],
   "source": [
    "list(s5)"
   ]
  },
  {
   "cell_type": "code",
   "execution_count": 129,
   "id": "6e47c780",
   "metadata": {},
   "outputs": [],
   "source": [
    "s5.add(90)"
   ]
  },
  {
   "cell_type": "code",
   "execution_count": 130,
   "id": "051777ba",
   "metadata": {},
   "outputs": [
    {
     "data": {
      "text/plain": [
       "{2, 3, 4, 5, 7, 8, 9, 90, 99, 888}"
      ]
     },
     "execution_count": 130,
     "metadata": {},
     "output_type": "execute_result"
    }
   ],
   "source": [
    "s5"
   ]
  },
  {
   "cell_type": "code",
   "execution_count": 131,
   "id": "82fba34c",
   "metadata": {},
   "outputs": [],
   "source": [
    "s6= {(1,2,3),(2,3,4)}"
   ]
  },
  {
   "cell_type": "code",
   "execution_count": 132,
   "id": "6dd5d450",
   "metadata": {},
   "outputs": [
    {
     "data": {
      "text/plain": [
       "{(1, 2, 3), (2, 3, 4)}"
      ]
     },
     "execution_count": 132,
     "metadata": {},
     "output_type": "execute_result"
    }
   ],
   "source": [
    "s6"
   ]
  },
  {
   "cell_type": "code",
   "execution_count": 133,
   "id": "f3a1db04",
   "metadata": {},
   "outputs": [],
   "source": [
    "s5.remove(90)"
   ]
  },
  {
   "cell_type": "code",
   "execution_count": 134,
   "id": "37adfb8b",
   "metadata": {},
   "outputs": [
    {
     "ename": "KeyError",
     "evalue": "999999",
     "output_type": "error",
     "traceback": [
      "\u001b[1;31m---------------------------------------------------------------------------\u001b[0m",
      "\u001b[1;31mKeyError\u001b[0m                                  Traceback (most recent call last)",
      "Cell \u001b[1;32mIn[134], line 1\u001b[0m\n\u001b[1;32m----> 1\u001b[0m \u001b[43ms5\u001b[49m\u001b[38;5;241;43m.\u001b[39;49m\u001b[43mremove\u001b[49m\u001b[43m(\u001b[49m\u001b[38;5;241;43m999999\u001b[39;49m\u001b[43m)\u001b[49m\n",
      "\u001b[1;31mKeyError\u001b[0m: 999999"
     ]
    }
   ],
   "source": [
    "s5.remove(999999)"
   ]
  },
  {
   "cell_type": "code",
   "execution_count": 135,
   "id": "5f177c0e",
   "metadata": {},
   "outputs": [],
   "source": [
    "s5.discard(90)"
   ]
  },
  {
   "cell_type": "code",
   "execution_count": 137,
   "id": "879c3b1b",
   "metadata": {},
   "outputs": [
    {
     "data": {
      "text/plain": [
       "{2, 3, 4, 5, 7, 8, 9, 99, 888}"
      ]
     },
     "execution_count": 137,
     "metadata": {},
     "output_type": "execute_result"
    }
   ],
   "source": [
    "s5"
   ]
  },
  {
   "cell_type": "code",
   "execution_count": 138,
   "id": "3911f225",
   "metadata": {},
   "outputs": [],
   "source": [
    "s5.discard(5)"
   ]
  },
  {
   "cell_type": "code",
   "execution_count": 139,
   "id": "6dcf2147",
   "metadata": {},
   "outputs": [],
   "source": [
    "s5.discard(5)"
   ]
  },
  {
   "cell_type": "code",
   "execution_count": 140,
   "id": "01392017",
   "metadata": {},
   "outputs": [
    {
     "data": {
      "text/plain": [
       "{2, 3, 4, 7, 8, 9, 99, 888}"
      ]
     },
     "execution_count": 140,
     "metadata": {},
     "output_type": "execute_result"
    }
   ],
   "source": [
    "s5"
   ]
  },
  {
   "cell_type": "markdown",
   "id": "5e6fd655",
   "metadata": {},
   "source": []
  },
  {
   "cell_type": "code",
   "execution_count": null,
   "id": "201ded2f",
   "metadata": {},
   "outputs": [],
   "source": []
  }
 ],
 "metadata": {
  "kernelspec": {
   "display_name": "Python 3 (ipykernel)",
   "language": "python",
   "name": "python3"
  },
  "language_info": {
   "codemirror_mode": {
    "name": "ipython",
    "version": 3
   },
   "file_extension": ".py",
   "mimetype": "text/x-python",
   "name": "python",
   "nbconvert_exporter": "python",
   "pygments_lexer": "ipython3",
   "version": "3.10.9"
  }
 },
 "nbformat": 4,
 "nbformat_minor": 5
}
