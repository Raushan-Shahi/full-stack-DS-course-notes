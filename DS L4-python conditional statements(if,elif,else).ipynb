{
 "cells": [
  {
   "cell_type": "code",
   "execution_count": 27,
   "id": "198658aa",
   "metadata": {},
   "outputs": [
    {
     "name": "stdout",
     "output_type": "stream",
     "text": [
      "This is first condition\n"
     ]
    }
   ],
   "source": [
    "a=10\n",
    "if a ==10:\n",
    "    print(\"This is first condition\")"
   ]
  },
  {
   "cell_type": "code",
   "execution_count": 28,
   "id": "d67bdaa9",
   "metadata": {},
   "outputs": [],
   "source": [
    "a=10\n",
    "if a>5:\n",
    "    pass\n"
   ]
  },
  {
   "cell_type": "code",
   "execution_count": 29,
   "id": "90f8e48f",
   "metadata": {},
   "outputs": [
    {
     "name": "stdout",
     "output_type": "stream",
     "text": [
      "print this\n"
     ]
    }
   ],
   "source": [
    "a=10\n",
    "if a == 11:\n",
    "    print(\"my condition is false\")\n",
    "else:\n",
    "    print(\"print this\")"
   ]
  },
  {
   "cell_type": "code",
   "execution_count": 30,
   "id": "745f7767",
   "metadata": {},
   "outputs": [
    {
     "name": "stdout",
     "output_type": "stream",
     "text": [
      "compare 10 with 11\n"
     ]
    }
   ],
   "source": [
    "if a ==12:\n",
    "    print(\"10 compared to 12\")\n",
    "elif a ==10:\n",
    "    print(\"compare 10 with 11\")\n",
    "else:\n",
    "    print(\"alll fail print this\")\n"
   ]
  },
  {
   "cell_type": "code",
   "execution_count": 31,
   "id": "0729a634",
   "metadata": {},
   "outputs": [
    {
     "name": "stdout",
     "output_type": "stream",
     "text": [
      "i will be able to buy the jacket\n"
     ]
    }
   ],
   "source": [
    "price = 500\n",
    "if price >500:\n",
    "    print(\"not able to buy\")\n",
    "elif price<=500:\n",
    "    print(\"i will be able to buy the jacket\")\n",
    "    "
   ]
  },
  {
   "cell_type": "code",
   "execution_count": 32,
   "id": "a94d0e14",
   "metadata": {},
   "outputs": [
    {
     "data": {
      "text/plain": [
       "True"
      ]
     },
     "execution_count": 32,
     "metadata": {},
     "output_type": "execute_result"
    }
   ],
   "source": [
    "l = [1,2,3,4,5,6]\n",
    "2 in l"
   ]
  },
  {
   "cell_type": "code",
   "execution_count": 33,
   "id": "ad7c5453",
   "metadata": {},
   "outputs": [
    {
     "name": "stdout",
     "output_type": "stream",
     "text": [
      "ho gya\n",
      "new statement\n"
     ]
    }
   ],
   "source": [
    "if 90 in l:\n",
    "    print (\"perform the task\")\n",
    "elif 2 in l:\n",
    "    print(\"ho gya\")\n",
    "if 4 in l:\n",
    "    print(\"new statement\")"
   ]
  },
  {
   "cell_type": "code",
   "execution_count": 34,
   "id": "3e490efd",
   "metadata": {},
   "outputs": [],
   "source": [
    "a=400"
   ]
  },
  {
   "cell_type": "code",
   "execution_count": 35,
   "id": "03abee86",
   "metadata": {},
   "outputs": [
    {
     "name": "stdout",
     "output_type": "stream",
     "text": [
      "500\n"
     ]
    }
   ],
   "source": [
    "b =int(input())   #by default input is converted into string"
   ]
  },
  {
   "cell_type": "code",
   "execution_count": 36,
   "id": "56742202",
   "metadata": {},
   "outputs": [
    {
     "data": {
      "text/plain": [
       "500"
      ]
     },
     "execution_count": 36,
     "metadata": {},
     "output_type": "execute_result"
    }
   ],
   "source": [
    "b"
   ]
  },
  {
   "cell_type": "code",
   "execution_count": 37,
   "id": "408fd2ce",
   "metadata": {},
   "outputs": [
    {
     "data": {
      "text/plain": [
       "int"
      ]
     },
     "execution_count": 37,
     "metadata": {},
     "output_type": "execute_result"
    }
   ],
   "source": [
    "type(b)"
   ]
  },
  {
   "cell_type": "code",
   "execution_count": 39,
   "id": "b2a6f510",
   "metadata": {},
   "outputs": [
    {
     "name": "stdout",
     "output_type": "stream",
     "text": [
      "400\n",
      "i will be able to buy something\n",
      "i will be able to buy a jacket\n",
      "buy and save\n"
     ]
    }
   ],
   "source": [
    "c = int(input())\n",
    "if c<500:\n",
    "    print(\"i will be able to buy something\")\n",
    "    if price<900:\n",
    "        print(\"i will be able to buy a jacket\")\n",
    "        if b < 600:\n",
    "            print(\"buy and save\")"
   ]
  },
  {
   "cell_type": "code",
   "execution_count": 1,
   "id": "431b3d14",
   "metadata": {},
   "outputs": [
    {
     "name": "stdout",
     "output_type": "stream",
     "text": [
      "552\n",
      "You are selected for toffel\n"
     ]
    }
   ],
   "source": [
    "marks= int(input())\n",
    "if marks >600:\n",
    "    print(\"You are selected for GRE\")\n",
    "else:\n",
    "    if marks >500:\n",
    "        print(\"You are selected for toffel\")\n",
    "    else:\n",
    "        print(\"Try something else\")\n",
    "        \n",
    "        "
   ]
  },
  {
   "cell_type": "code",
   "execution_count": 5,
   "id": "9d16bfca",
   "metadata": {},
   "outputs": [],
   "source": [
    "a=10 \n",
    "if a <10 or a>10:\n",
    "    print(\"try something\")"
   ]
  },
  {
   "cell_type": "code",
   "execution_count": 6,
   "id": "9663cc51",
   "metadata": {},
   "outputs": [],
   "source": [
    "b = 20\n",
    "if b == 20 and b <20:\n",
    "    print(\"both conditions are true\")"
   ]
  },
  {
   "cell_type": "code",
   "execution_count": 9,
   "id": "b06e97a0",
   "metadata": {},
   "outputs": [
    {
     "name": "stdout",
     "output_type": "stream",
     "text": [
      "do something\n"
     ]
    }
   ],
   "source": [
    "a= 10\n",
    "b=11\n",
    "c=12\n",
    "d=13\n",
    "if a==9 or b==11 and c ==12 and d==13:\n",
    "    print(\"do something\")"
   ]
  },
  {
   "cell_type": "code",
   "execution_count": 11,
   "id": "4baa6ae8",
   "metadata": {},
   "outputs": [
    {
     "name": "stdout",
     "output_type": "stream",
     "text": [
      "do something\n"
     ]
    }
   ],
   "source": [
    "a= 10\n",
    "b=11\n",
    "c=12\n",
    "d=13\n",
    "if a==9 and b==11 or c ==12 and d==13:\n",
    "    print(\"do something\")"
   ]
  },
  {
   "cell_type": "code",
   "execution_count": 12,
   "id": "ff3204d4",
   "metadata": {},
   "outputs": [],
   "source": [
    "d = {'key1': 'value', 'key2': 'raushan', 'key3':'rishabh'}"
   ]
  },
  {
   "cell_type": "code",
   "execution_count": 14,
   "id": "f6f1f6ad",
   "metadata": {},
   "outputs": [
    {
     "name": "stdout",
     "output_type": "stream",
     "text": [
      "all values verified\n",
      "dict_values(['value', 'raushan', 'rishabh'])\n"
     ]
    }
   ],
   "source": [
    "if d['key1'] == 'value' and d['key2'] == 'raushan' and d['key3']=='rishabh':\n",
    "    print(\"all values verified\")\n",
    "    print(d.values())"
   ]
  },
  {
   "cell_type": "code",
   "execution_count": 19,
   "id": "e5d9a616",
   "metadata": {},
   "outputs": [],
   "source": [
    "l =[1,2,3,4,5, 'raushan',23.45]"
   ]
  },
  {
   "cell_type": "code",
   "execution_count": 20,
   "id": "4f405ce9",
   "metadata": {},
   "outputs": [
    {
     "name": "stdout",
     "output_type": "stream",
     "text": [
      "2\n",
      "3\n",
      "4\n",
      "5\n",
      "6\n",
      "raushan1\n",
      "24.45\n"
     ]
    }
   ],
   "source": [
    "for i in l:\n",
    "    if type(i) == int or type(i) == float:\n",
    "        print(i+1)\n",
    "    elif type(i) == str:\n",
    "        print(i + str(1))\n",
    "    \n",
    "    "
   ]
  },
  {
   "cell_type": "code",
   "execution_count": 21,
   "id": "45fd90f5",
   "metadata": {},
   "outputs": [],
   "source": [
    "l1 = []\n",
    "for i in l:\n",
    "    if type(i) == int:\n",
    "        l1.append(i)"
   ]
  },
  {
   "cell_type": "code",
   "execution_count": 22,
   "id": "8fe38df0",
   "metadata": {},
   "outputs": [
    {
     "data": {
      "text/plain": [
       "[1, 2, 3, 4, 5]"
      ]
     },
     "execution_count": 22,
     "metadata": {},
     "output_type": "execute_result"
    }
   ],
   "source": [
    "l1"
   ]
  },
  {
   "cell_type": "code",
   "execution_count": null,
   "id": "b0ad22d9",
   "metadata": {},
   "outputs": [],
   "source": []
  }
 ],
 "metadata": {
  "kernelspec": {
   "display_name": "Python 3 (ipykernel)",
   "language": "python",
   "name": "python3"
  },
  "language_info": {
   "codemirror_mode": {
    "name": "ipython",
    "version": 3
   },
   "file_extension": ".py",
   "mimetype": "text/x-python",
   "name": "python",
   "nbconvert_exporter": "python",
   "pygments_lexer": "ipython3",
   "version": "3.10.9"
  }
 },
 "nbformat": 4,
 "nbformat_minor": 5
}
